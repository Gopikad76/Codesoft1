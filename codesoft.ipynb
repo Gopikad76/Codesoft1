{
  "nbformat": 4,
  "nbformat_minor": 0,
  "metadata": {
    "colab": {
      "provenance": [],
      "authorship_tag": "ABX9TyPBoHUDLv0j/5sZcoNnxQui",
      "include_colab_link": true
    },
    "kernelspec": {
      "name": "python3",
      "display_name": "Python 3"
    },
    "language_info": {
      "name": "python"
    }
  },
  "cells": [
    {
      "cell_type": "markdown",
      "metadata": {
        "id": "view-in-github",
        "colab_type": "text"
      },
      "source": [
        "<a href=\"https://colab.research.google.com/github/Gopikad76/Codesoft1/blob/main/codesoft.ipynb\" target=\"_parent\"><img src=\"https://colab.research.google.com/assets/colab-badge.svg\" alt=\"Open In Colab\"/></a>"
      ]
    },
    {
      "cell_type": "code",
      "source": [
        "def simple_chatbot(user_input):\n",
        "    greetings = [\"hello\", \"hi\", \"hey\", \"greetings\"]\n",
        "    farewells = [\"bye\", \"goodbye\", \"see you\", \"take care\"]\n",
        "    Queries=[\"What is your name\",\"tell me your name\"]\n",
        "    jokes=[ \"make me laugh\",\"tell joke\"]\n",
        "    Query2=[\"How are you\",\"what about you\"]\n",
        "\n",
        "\n",
        "    if any(word in user_input.lower() for word in greetings):\n",
        "        return \"Hello! How can I help you today?\"\n",
        "\n",
        "    # Check if the user's input is a farewell\n",
        "    elif any(word in user_input.lower() for word in farewells):\n",
        "        return \"Goodbye! Have a great day.\"\n",
        "\n",
        "    elif any(word in user_input.lower() for word in jokes):\n",
        "        return \"I went to a seafood disco last week and pulled a mussel.\"\n",
        "\n",
        "    elif any(word in user_input.lower() for word in Queries):\n",
        "        return \"You can call me chatbot.\"\n",
        "\n",
        "    elif any(word in user_input.lower() for word in Query2):\n",
        "        return \"I am fine and i am doing good!.\"\n",
        "\n",
        "\n",
        "    else:\n",
        "        return \"I'm just a simple chatbot. I don't understand that.\"\n",
        "\n",
        "\n",
        "print(\"SimpleBot: Hello! Type 'exit' to end the conversation.\")\n",
        "while True:\n",
        "\n",
        "\n",
        "    user_input = input(\"You: \")\n",
        "\n",
        "\n",
        "    if user_input.lower() == 'exit':\n",
        "        print(\"SimpleBot: Goodbye!\")\n",
        "        break\n",
        "\n",
        "\n",
        "    response = simple_chatbot(user_input)\n",
        "    print(\"SimpleBot:\",response)"
      ],
      "metadata": {
        "id": "cBXqIMOd2_oQ",
        "outputId": "deea2fc8-27aa-41ab-8fdd-537a788e7612",
        "colab": {
          "base_uri": "https://localhost:8080/"
        }
      },
      "execution_count": 2,
      "outputs": [
        {
          "output_type": "stream",
          "name": "stdout",
          "text": [
            "SimpleBot: Hello! Type 'exit' to end the conversation.\n",
            "You: hey\n",
            "SimpleBot: Hello! How can I help you today?\n",
            "You: what is your name\n",
            "SimpleBot: I'm just a simple chatbot. I don't understand that.\n",
            "You: tell me your name\n",
            "SimpleBot: You can call me chatbot.\n",
            "You: make me laugh\n",
            "SimpleBot: I went to a seafood disco last week and pulled a mussel.\n",
            "You: how are you \n",
            "SimpleBot: I'm just a simple chatbot. I don't understand that.\n",
            "You: what about you\n",
            "SimpleBot: I am fine and i am doing good!.\n",
            "You: see you\n",
            "SimpleBot: Goodbye! Have a great day.\n",
            "You: exit\n",
            "SimpleBot: Goodbye!\n"
          ]
        }
      ]
    }
  ]
}